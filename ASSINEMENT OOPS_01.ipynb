{
 "cells": [
  {
   "cell_type": "markdown",
   "id": "fefca12a-ef9c-42cb-a970-485bf6451900",
   "metadata": {},
   "source": [
    "OOPs Task"
   ]
  },
  {
   "cell_type": "markdown",
   "id": "ab61b632-7cde-4f65-b426-7a7b816b3d18",
   "metadata": {},
   "source": [
    "Q1. Create a vehicle class with an init method having instance variables as name_of_vehicle, max_speed\n",
    "and average_of_vehicle."
   ]
  },
  {
   "cell_type": "markdown",
   "id": "1df1deb1-0387-4e89-9f90-7b79e13ba9ce",
   "metadata": {},
   "source": [
    "Solution(1): "
   ]
  },
  {
   "cell_type": "code",
   "execution_count": 15,
   "id": "2d9da0a8-9009-422d-a9a0-7d3e97239399",
   "metadata": {},
   "outputs": [
    {
     "data": {
      "text/plain": [
       "('Mahnidra Scorpio', '55 Km/h', '123')"
      ]
     },
     "execution_count": 15,
     "metadata": {},
     "output_type": "execute_result"
    }
   ],
   "source": [
    "class vehicle:\n",
    "    def __init__(self, name_of_vechile, max_avg, average_of_vehicle):\n",
    "        self.name_of_vechile = name_of_vechile\n",
    "        self.max_avg = max_avg\n",
    "        self.average_of_vehicle = average_of_vehicle\n",
    "    \n",
    "    def getdata(self):\n",
    "        return(self.name_of_vechile, self.max_avg, self.average_of_vehicle)\n",
    "    \n",
    "\n",
    "Object_Scorpio = vehicle(\"Mahnidra Scorpio\", \"55 Km/h\", \"123\") \n",
    "\n",
    "Object_Scorpio.getdata()"
   ]
  },
  {
   "cell_type": "markdown",
   "id": "45d2c480-c419-4efb-bc50-a9061508eabc",
   "metadata": {},
   "source": [
    "Q2. Create a child class car from the vehicle class created in Que 1, which will inherit the vehicle class.\n",
    "Create a method named seating_capacity which takes capacity as an argument and returns the name of\n",
    "the vehicle and its seating capacity."
   ]
  },
  {
   "cell_type": "markdown",
   "id": "c22714c5-adda-42e3-a113-5e2f442d521f",
   "metadata": {},
   "source": [
    "Solution(2):"
   ]
  },
  {
   "cell_type": "code",
   "execution_count": 4,
   "id": "ec828550-3af7-4a35-9ecb-67c2b22748a1",
   "metadata": {},
   "outputs": [
    {
     "name": "stdout",
     "output_type": "stream",
     "text": [
      "Scorpio\n",
      "3\n",
      "2\n"
     ]
    },
    {
     "data": {
      "text/plain": [
       "<bound method Car.getdata_02 of <__main__.Car object at 0x7ffbd0731b10>>"
      ]
     },
     "execution_count": 4,
     "metadata": {},
     "output_type": "execute_result"
    }
   ],
   "source": [
    "class vehicle:\n",
    "    def __init__(self, name_of_vechile, max_avg, average_of_vehicle):\n",
    "        self.name_of_vechile = name_of_vechile\n",
    "        self.max_avg = max_avg\n",
    "        self.average_of_vehicle = average_of_vehicle\n",
    "    \n",
    "    def getdata_01(self):\n",
    "        return(self.name_of_vechile, self.max_avg, self.average_of_vehicle)\n",
    "\n",
    "class Car(vehicle):\n",
    "    def __init__(self, name_of_vechile, max_avg, seating_capacity):\n",
    "        self.name_of_vechile = name_of_vechile\n",
    "        self.max_avg = max_avg\n",
    "        self.seating_capacity = seating_capacity\n",
    "        print(self.name_of_vechile)\n",
    "        print(self.max_avg)\n",
    "        print(self.seating_capacity)\n",
    "    \n",
    "    def getdata_02(self):\n",
    "        return(self.name_of_vechile, self.seating_capacity)\n",
    "          \n",
    "Object_Car = Car(\"Scorpio\",3, \"2\")\n",
    "Object_Car.getdata_02"
   ]
  },
  {
   "cell_type": "markdown",
   "id": "4f856184-4508-468a-bd7c-81470f4d6dfc",
   "metadata": {},
   "source": [
    "Q3. What is multiple inheritance? Write a python code to demonstrate multiple inheritance."
   ]
  },
  {
   "cell_type": "markdown",
   "id": "65f2d72e-bf57-4810-8b3e-22a315ea9dd9",
   "metadata": {},
   "source": [
    "Solution (3): Multiple Inheritence: When a class is derived from more than one base class is called multiple inheritence.\n"
   ]
  },
  {
   "cell_type": "code",
   "execution_count": 5,
   "id": "e976999c-6326-4364-9933-5a120e77b10b",
   "metadata": {},
   "outputs": [
    {
     "name": "stdout",
     "output_type": "stream",
     "text": [
      "Pwskills\n",
      "5\n"
     ]
    }
   ],
   "source": [
    "# This code demostrate the multiple inheritence.\n",
    "\n",
    "class Class_1:\n",
    "    def function_1(self):\n",
    "        return \"Pwskills\"\n",
    "    \n",
    "class Class_2:\n",
    "    def function_2(self):\n",
    "        return 2+3\n",
    "        \n",
    "class Claas_3(Class_1,Class_2):\n",
    "    pass\n",
    "\n",
    "object_Class3 = Claas_3()\n",
    "print(object_Class3.function_1())\n",
    "print(object_Class3.function_2())"
   ]
  },
  {
   "cell_type": "markdown",
   "id": "68f799da-ea3d-474e-99e6-e73523ddffd9",
   "metadata": {},
   "source": [
    "Q4. What are getter and setter in python? Create a class and create a getter and a setter method in this\n",
    "class."
   ]
  },
  {
   "cell_type": "markdown",
   "id": "dcf5496f-2360-4703-9901-456215d134b4",
   "metadata": {},
   "source": [
    "Solution (4): Getter & Setter in python"
   ]
  },
  {
   "cell_type": "markdown",
   "id": "37214c49-617d-4e60-9eb7-0278d621f197",
   "metadata": {},
   "source": [
    "Getter and setter are methods used to access and modify the attributes of a class in a controlled and consistent manner. They provide an an abstraction over the class's Internal data memenbers and allow you to enfroce data encapsultion and validation. Getters are used to retrive the value of an attribute and setters are used to set the value of an attribute."
   ]
  },
  {
   "cell_type": "code",
   "execution_count": 4,
   "id": "0b47ba14-6ed8-4b77-b473-5446f1f41831",
   "metadata": {},
   "outputs": [
    {
     "name": "stdout",
     "output_type": "stream",
     "text": [
      "42\n",
      "Value cannot be negative. Setting to 0.\n",
      "0\n"
     ]
    }
   ],
   "source": [
    "class MyClass:\n",
    "    def __init__(self):\n",
    "        # Private attribute\n",
    "        self._my_attribute = None\n",
    "\n",
    "    @property\n",
    "    def my_attribute(self):\n",
    "        return self._my_attribute\n",
    "\n",
    "    @my_attribute.setter\n",
    "    def my_attribute(self, value):\n",
    "        if value < 0:\n",
    "            print(\"Value cannot be negative. Setting to 0.\")\n",
    "            self._my_attribute = 0\n",
    "        else:\n",
    "            self._my_attribute = value\n",
    "\n",
    "# Creating an instance of the class\n",
    "obj = MyClass()\n",
    "\n",
    "# Using the property\n",
    "obj.my_attribute = 42\n",
    "\n",
    "# Accessing the property\n",
    "value = obj.my_attribute\n",
    "print(value)  # Output: 42\n",
    "\n",
    "# Trying to set a negative value\n",
    "obj.my_attribute = -5  # Output: Value cannot be negative. Setting to 0.\n",
    "\n",
    "# Checking the updated value using the property\n",
    "value = obj.my_attribute\n",
    "print(value)  # Output: 0\n"
   ]
  },
  {
   "cell_type": "markdown",
   "id": "d1aee998-12a4-48a5-9f60-4d2b3f1d8afb",
   "metadata": {},
   "source": [
    "In this version, the @property decorator is used to define a getter, and the @my_attribute.setter decorator is used to define a setter."
   ]
  },
  {
   "cell_type": "markdown",
   "id": "0bc22800-90df-451f-9787-813e09af14c8",
   "metadata": {},
   "source": [
    "Q5.What is method overriding in python? Write a python code to demonstrate method overriding."
   ]
  },
  {
   "cell_type": "markdown",
   "id": "fc0fa240-a74c-451e-b5c6-2ff16ce37656",
   "metadata": {},
   "source": [
    "Solution (5): Method overriding in Python occurs when a subclass provides a specific implementation for a method that is already defined in its superclass. This allows the subclass to provide a specialized version of the method, while still maintaining the same method signature.\n",
    "Here the example of method overding in given below."
   ]
  },
  {
   "cell_type": "code",
   "execution_count": 3,
   "id": "bce427f9-bf97-4049-97d4-7352dbdfd89b",
   "metadata": {},
   "outputs": [
    {
     "name": "stdout",
     "output_type": "stream",
     "text": [
      "Dog barks\n",
      "Cat meows\n"
     ]
    }
   ],
   "source": [
    "class Animal:\n",
    "    def speak(self):\n",
    "        print(\"Animal speaks\")\n",
    "\n",
    "class Dog(Animal):\n",
    "    def speak(self):\n",
    "        print(\"Dog barks\")\n",
    "\n",
    "class Cat(Animal):\n",
    "    def speak(self):\n",
    "        print(\"Cat meows\")\n",
    "\n",
    "# Create instances of the subclasses\n",
    "dog = Dog()\n",
    "cat = Cat()\n",
    "\n",
    "# Call the overridden method\n",
    "dog.speak()  # Output: Dog barks\n",
    "cat.speak()  # Output: Cat meows\n"
   ]
  },
  {
   "cell_type": "markdown",
   "id": "710bc352-b212-49c5-b6c1-3d40f2fbf985",
   "metadata": {},
   "source": [
    "In this example, the Animal class has a method called speak. Both the Dog and Cat subclasses inherit from the Animal class and override the speak method with their own implementations. When you create instances of the subclasses and call the speak method, the overridden method in each subclass is invoked."
   ]
  },
  {
   "cell_type": "code",
   "execution_count": null,
   "id": "f6fd713a-a6c8-4af4-ba01-ecd6f64e53e8",
   "metadata": {},
   "outputs": [],
   "source": []
  }
 ],
 "metadata": {
  "kernelspec": {
   "display_name": "Python 3 (ipykernel)",
   "language": "python",
   "name": "python3"
  },
  "language_info": {
   "codemirror_mode": {
    "name": "ipython",
    "version": 3
   },
   "file_extension": ".py",
   "mimetype": "text/x-python",
   "name": "python",
   "nbconvert_exporter": "python",
   "pygments_lexer": "ipython3",
   "version": "3.10.8"
  }
 },
 "nbformat": 4,
 "nbformat_minor": 5
}
