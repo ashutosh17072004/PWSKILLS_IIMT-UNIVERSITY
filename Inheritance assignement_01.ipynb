{
 "cells": [
  {
   "cell_type": "markdown",
   "id": "cbeacb67-446f-4da6-b409-fb4b65b297a4",
   "metadata": {
    "tags": []
   },
   "source": [
    "# _OBJECT ORIENTED PROGRAMMING ASSIGNEMENT_\n",
    "***"
   ]
  },
  {
   "cell_type": "markdown",
   "id": "2f670ca6-5263-4846-826d-fc25d2f513df",
   "metadata": {},
   "source": [
    "__Q1. Explain Class and Object with respect to Object-Oriented Programming. Give a suitable example.__"
   ]
  },
  {
   "cell_type": "markdown",
   "id": "83fa084a-c48b-46f1-9a77-5cea4e70fb14",
   "metadata": {},
   "source": [
    "Solution (1):\n",
    "- Class: A class is a user defined data structure, which holds its own data members and member function, which can be accessed and used by creating an instance of that class. A class is like a blueprint for an object.\n",
    "\n",
    "- Object: An object is the instance of a class. A class is like a blueprint while an instance is a copy of the class with actual values. "
   ]
  },
  {
   "cell_type": "code",
   "execution_count": 20,
   "id": "715cb7ea-f419-455a-bcfb-5c4a8454e4a3",
   "metadata": {
    "tags": []
   },
   "outputs": [
    {
     "name": "stdout",
     "output_type": "stream",
     "text": [
      "I love you Ashutosh\n",
      "5\n"
     ]
    }
   ],
   "source": [
    "#For example\n",
    "\n",
    "class CLASS_1:\n",
    "    \n",
    "    def Ashutosh(self):\n",
    "        print(\"I love you Ashutosh\")\n",
    "        \n",
    "    def Sum(self):\n",
    "        print(2+3)\n",
    "        \n",
    "# Instantiate an object of the class Class1        \n",
    "object_Instance = CLASS_1()\n",
    "\n",
    "# Call the Ashutosh method on the object\n",
    "object_Instance.Ashutosh()\n",
    "\n",
    "# Call the Sum method on the object\n",
    "object_Instance.Sum()"
   ]
  },
  {
   "cell_type": "markdown",
   "id": "08bf74ec-6890-473d-b028-651529ce40bf",
   "metadata": {},
   "source": [
    "***"
   ]
  },
  {
   "cell_type": "markdown",
   "id": "2093657e-7ff1-47a3-86e7-9970335395a3",
   "metadata": {},
   "source": [
    "__Q2. Name the four pillars of OOPs.__"
   ]
  },
  {
   "cell_type": "markdown",
   "id": "e65f1a9b-017d-49a8-8888-a159eb715894",
   "metadata": {},
   "source": [
    "Solution (2): There are four pillar of object oriented programming.\n",
    "- Inheritence\n",
    "- Polymorphism\n",
    "- Encapsulation\n",
    "- Abstraction\n",
    "\n",
    "***"
   ]
  },
  {
   "cell_type": "markdown",
   "id": "7310b08d-6a14-4cf5-8a26-b4b46329eab4",
   "metadata": {},
   "source": [
    "__Q3. Explain why the \"__init__()\" function is used. Give a suitable example.__"
   ]
  },
  {
   "cell_type": "markdown",
   "id": "e48f90b6-035a-43bb-bb86-0f8042dac468",
   "metadata": {},
   "source": [
    "Solution (3): In Python, the __init__() method is a special method used for initializing an object after it has been created. It stands for \"initialize\" and is a constructor method. When you create a new instance of a class, the __init__() method is automatically called.\n",
    "\n",
    "Example of init function"
   ]
  },
  {
   "cell_type": "code",
   "execution_count": 10,
   "id": "e27df233-df65-40b3-b0bf-89384f4552e1",
   "metadata": {},
   "outputs": [
    {
     "name": "stdout",
     "output_type": "stream",
     "text": [
      "Ashutosh , ashutoshtiwari17072004@gmail.com\n"
     ]
    }
   ],
   "source": [
    "class Pwskills_1:\n",
    "    \n",
    "    def __init__(self,Name,Email):\n",
    "        self.Name = Name\n",
    "        self.EmaiL = Email\n",
    "        \n",
    "    def return_details(self):\n",
    "        print(self.Name,\",\",self.EmaiL)\n",
    "        \n",
    "# Creating an instance of the class\n",
    "person = Pwskills_1(\"Ashutosh\",\"ashutoshtiwari17072004@gmail.com\")\n",
    "\n",
    "# Calling the return_details method\n",
    "person.return_details()"
   ]
  },
  {
   "cell_type": "markdown",
   "id": "9268e50d-20e0-41ae-b1c9-5af3c193f7e4",
   "metadata": {},
   "source": [
    "This code defines the class Pwskills_1, creates an instance of it named person, and then calls the return_details method on that instance. Note that I corrected the attribute name from EmaiL to Email for consistency and readability.\n",
    "\n",
    "***"
   ]
  },
  {
   "cell_type": "markdown",
   "id": "ceda56a9-22a2-423e-ab00-e7eaa87b29a8",
   "metadata": {},
   "source": [
    "__Q4. Why self is used in OOPs?__"
   ]
  },
  {
   "cell_type": "markdown",
   "id": "ee51ec79-c3af-4827-a629-6be14284d5fe",
   "metadata": {},
   "source": [
    "Solution (4): Self represents the instance of class. This handy keyword allows you to access variables, attributes, and methods of a defined class in Python."
   ]
  },
  {
   "cell_type": "markdown",
   "id": "d904a12a-6821-4388-b5e9-5b36881918b3",
   "metadata": {},
   "source": [
    "***"
   ]
  },
  {
   "cell_type": "markdown",
   "id": "069dfd70-a893-4f92-b0c9-9ab645932156",
   "metadata": {},
   "source": [
    "__Q5. What is inheritance? Give an example for each type of inheritance.__"
   ]
  },
  {
   "cell_type": "markdown",
   "id": "40878930-35e8-493e-a1e9-be2c1cb55aa2",
   "metadata": {},
   "source": [
    "Solution(5): Inheritence is a fundamrntal concept in object oriented programming (object oriented programming) that allows you to create a new class by inherting the properties and behaviours (attributes and methods).\n",
    "If an existing class. In python you can implememnt inheritence using the 'class' keyword and specifying the base class (also called the paerent class or super class) in prarentheses when defying a new class (the derived class or class).\n",
    "Here's a basic example of inheritence in python.\n",
    "\n",
    "Type of Inheritence: There are 5 types of inheritence.\n",
    "- Single Inheritence\n",
    "- Multilevel Inherietnce\n",
    "- Multiple Inheritence\n",
    "- Hierarchial Inheritence\n",
    "- Hybrid Inheritence."
   ]
  },
  {
   "cell_type": "markdown",
   "id": "3f2e1e6c-5d39-4b59-b9d1-ffec1fa72aa0",
   "metadata": {},
   "source": [
    "- `Single Inheritence:` In Single Inheritence, a class inherit from only one base class. This is the simplest form of inheritence in python.\n",
    "\n",
    "Example of single inheritence."
   ]
  },
  {
   "cell_type": "code",
   "execution_count": 3,
   "id": "a2e67875-f2de-46bf-ab0a-5b568874a53d",
   "metadata": {},
   "outputs": [
    {
     "name": "stdout",
     "output_type": "stream",
     "text": [
      "5\n"
     ]
    }
   ],
   "source": [
    "# Define the Parent class\n",
    "class Parent:\n",
    "    def pwskills_1(self):\n",
    "        print(2+3)\n",
    "        \n",
    "# Define the Child class, which inherits from Parent\n",
    "class Child(Parent):\n",
    "    def pwskills_2(self):\n",
    "        return \"Pwskills Class Data Masters 2.0\"\n",
    "    \n",
    "# Create an instance of the Parent class\n",
    "object_parent = Parent()\n",
    "\n",
    "# Create an instance of the Child class\n",
    "object_chlid = Child()\n",
    "\n",
    "# Call the pwskills_1 method from the Parent class using the instance of Child\n",
    "object_chlid.pwskills_1()"
   ]
  },
  {
   "cell_type": "markdown",
   "id": "2a02060b-afa2-44f1-affa-bc45c73fc89a",
   "metadata": {},
   "source": [
    "- `Multilevel Inheritence:` Mutilevel Inheritence is a type of inheritence in object oriented programming where a derived class (child class) inherits from another derived class, which itself inherits from a base class. This cretes a chain of inheritence with mutiple levels of classes.\n",
    "\n",
    "Example of Mutilevel Inhertence."
   ]
  },
  {
   "cell_type": "code",
   "execution_count": 2,
   "id": "c3ea1977-4c4f-4a4a-b131-9ef42e4e55d3",
   "metadata": {},
   "outputs": [
    {
     "name": "stdout",
     "output_type": "stream",
     "text": [
      "IIMT University Meerut\n"
     ]
    }
   ],
   "source": [
    "# Define the Grandparents class\n",
    "class Granparents:\n",
    "    def function_1(self):\n",
    "        return \"IIMT University Meerut\"\n",
    "    \n",
    "# Define the Parents class, which inherits from Grandparents \n",
    "class Parents(Granparents):\n",
    "    def function_2(self):\n",
    "        return 2+3\n",
    "    \n",
    "# Define the Son class, which inherits from Parents\n",
    "class Son(Parents):\n",
    "    pass\n",
    "\n",
    "# Create instances of each class\n",
    "object_class_Grandparents = Granparents()\n",
    "object_class_parents = Parents()\n",
    "object_class_son = Son()\n",
    "\n",
    "# Call the function_1 method from Grandparents using the instance of Son\n",
    "Result = object_class_son.function_1()\n",
    "print(Result)"
   ]
  },
  {
   "cell_type": "markdown",
   "id": "2ed3f504-4675-43b7-99f4-34c25ee1779f",
   "metadata": {},
   "source": [
    "- `Multiple Inheritence:` Mutiple inheritence allows a class to inherit from more than one base class. This lead to complex class hierarchies."
   ]
  },
  {
   "cell_type": "code",
   "execution_count": 26,
   "id": "440773c7-f377-4ff5-b53c-e91a28a08611",
   "metadata": {},
   "outputs": [
    {
     "name": "stdout",
     "output_type": "stream",
     "text": [
      "PWSKILLS\n",
      "5\n"
     ]
    }
   ],
   "source": [
    "#Example of Mutiple Inheritence\n",
    "\n",
    "# Define the first class, CLASS_1\n",
    "class CLASS_1: \n",
    "    def Func_1(self):\n",
    "        return \"PWSKILLS\"\n",
    "\n",
    "# Define the second class, CLASS_2\n",
    "class CLASS_2:\n",
    "    def Func_2(self):\n",
    "        return 2+3\n",
    "    \n",
    "# Define the third class, CLASS_3, which inherits from CLASS_1 and CLASS_2\n",
    "class CLASS_3(CLASS_1,CLASS_2):\n",
    "    def Funct_3(self):\n",
    "        pass\n",
    "    \n",
    "# Create an instance of CLASS_3 \n",
    "object_CLASS_3 = CLASS_3()\n",
    "\n",
    "# Call the Func_1 method from CLASS_1 using the instance of CLASS_3\n",
    "Y = object_CLASS_3.Func_1()\n",
    "\n",
    "# Call the Func_2 method from CLASS_2 using the instance of CLASS_3\n",
    "Z = object_CLASS_3.Func_2()\n",
    "\n",
    "#Print the rseults\n",
    "print(Y)\n",
    "print(Z)"
   ]
  },
  {
   "cell_type": "markdown",
   "id": "c0a188cf-6524-4884-8c3c-ccd01bfb32e5",
   "metadata": {},
   "source": [
    "- `Hierarchial Inheritence:` Hierarchial Inheritence is atype of inheritence in object oriented programming where multiple are derived from the single class are derived from a single base class. In this type of inheritence, a single base class serves as the parent for mutliple child classes, Each child class inherits the properties and methods of the same base class, creating a hierachy of classes.\n",
    "\n",
    "Example of Hierarchial Inheritence"
   ]
  },
  {
   "cell_type": "code",
   "execution_count": 16,
   "id": "e9fabcc3-e8ac-4701-a4aa-8f7cf9b1eabf",
   "metadata": {},
   "outputs": [
    {
     "name": "stdout",
     "output_type": "stream",
     "text": [
      "Asus Vivobook is a laptop. It consists of keyboard mouse.\n",
      "Lenvo Vivobook is a lptop. It also consists of keyboard and mouse.\n"
     ]
    }
   ],
   "source": [
    "# Define a base class 'Asus'\n",
    "class Asus:\n",
    "    # Define a method 'function_10' for class 'Asus'\n",
    "    def function_10(self):\n",
    "        return \"Asus Vivobook is a laptop. It consists of keyboard mouse.\"\n",
    "\n",
    "# Create a subclass 'Samsung' that inherits from 'Asus'\n",
    "class Samsung(Asus):\n",
    "    # Define a method 'function_11' for class 'Samsung'\n",
    "    def function_11(self):\n",
    "        return \"Lenvo Vivobook is a lptop. It also consists of keyboard and mouse.\"\n",
    "    \n",
    "# Create another subclass 'Poco' that also inherits from 'Asus'\n",
    "class Poco(Asus):\n",
    "    pass\n",
    "\n",
    "# Create an instance of the 'Poco' class\n",
    "object_poco = Poco()\n",
    "\n",
    "# Create an instance of the 'Samsung' class\n",
    "object_samsung = Samsung()\n",
    "\n",
    "# Call method 'function_10' on the 'object_poco' instance and store the result in 'R1'\n",
    "R1 = object_poco.function_10()\n",
    "\n",
    "# Call method 'function_11' on the 'object_samsung' instance and store the result in 'R2'\n",
    "R2 = object_samsung.function_11()\n",
    "\n",
    "#print the result\n",
    "\n",
    "print(R1)\n",
    "print(R2)"
   ]
  },
  {
   "cell_type": "markdown",
   "id": "17676b46-d04c-49d6-af1e-9263a5098902",
   "metadata": {},
   "source": [
    "- `Hybrid Inheritence:` "
   ]
  },
  {
   "cell_type": "markdown",
   "id": "423cab24-2cec-4878-969a-120851f3a62b",
   "metadata": {},
   "source": [
    "Hybrid inheritance is a combination of more than one type of inheritance, typically involving a mix of single and multiple inheritances in a class hierarchy."
   ]
  },
  {
   "cell_type": "code",
   "execution_count": 17,
   "id": "021686c0-54a6-42fa-b1e5-72511acf9bbf",
   "metadata": {},
   "outputs": [
    {
     "name": "stdout",
     "output_type": "stream",
     "text": [
      "Animal speaks\n",
      "Mammal runs\n",
      "Bird flies\n",
      "Bat uses echolocation\n"
     ]
    }
   ],
   "source": [
    "class Animal:\n",
    "    def speak(self):\n",
    "        return \"Animal speaks\"\n",
    "\n",
    "class Mammal(Animal):\n",
    "    def run(self):\n",
    "        return \"Mammal runs\"\n",
    "\n",
    "class Bird(Animal):\n",
    "    def fly(self):\n",
    "        return \"Bird flies\"\n",
    "\n",
    "class Bat(Mammal, Bird):\n",
    "    def echolocate(self):\n",
    "        return \"Bat uses echolocation\"\n",
    "\n",
    "# Create an instance of the 'Bat' class\n",
    "bat_instance = Bat()\n",
    "\n",
    "# Demonstrate hybrid inheritance\n",
    "print(bat_instance.speak())      # Accessing method from 'Animal' class\n",
    "print(bat_instance.run())        # Accessing method from 'Mammal' class\n",
    "print(bat_instance.fly())        # Accessing method from 'Bird' class\n",
    "print(bat_instance.echolocate()) # Accessing method from 'Bat' class\n"
   ]
  },
  {
   "cell_type": "markdown",
   "id": "7878ada3-fbc5-47e7-9344-a70fc74406a7",
   "metadata": {},
   "source": [
    "***"
   ]
  },
  {
   "cell_type": "code",
   "execution_count": null,
   "id": "4d176239-5d69-4157-a9d1-85c03a7d92da",
   "metadata": {},
   "outputs": [],
   "source": []
  }
 ],
 "metadata": {
  "kernelspec": {
   "display_name": "Python 3 (ipykernel)",
   "language": "python",
   "name": "python3"
  },
  "language_info": {
   "codemirror_mode": {
    "name": "ipython",
    "version": 3
   },
   "file_extension": ".py",
   "mimetype": "text/x-python",
   "name": "python",
   "nbconvert_exporter": "python",
   "pygments_lexer": "ipython3",
   "version": "3.10.8"
  }
 },
 "nbformat": 4,
 "nbformat_minor": 5
}
