{
 "cells": [
  {
   "cell_type": "markdown",
   "id": "f207d9ee-e2f2-47bf-a7b2-35ccb52802b6",
   "metadata": {},
   "source": [
    "# PYTHON FUNCTION ASSIGNMENT: 2.0\n",
    "\n",
    "***"
   ]
  },
  {
   "cell_type": "markdown",
   "id": "dc5b978f-2964-4006-88ee-7356b1467d8b",
   "metadata": {},
   "source": [
    "__Q1. Create a python program to sort the given list of tuples based on integer value using a\n",
    "lambda function.__\n",
    "\n",
    "__[('Sachin Tendulkar', 34357), ('Ricky Ponting', 27483), ('Jack Kallis', 25534), ('Virat Kohli', 24936)]__\n",
    "\n",
    "Solution (1):"
   ]
  },
  {
   "cell_type": "code",
   "execution_count": 3,
   "id": "2e9b4750-9cf2-4a0c-b094-09e5dae36d4b",
   "metadata": {},
   "outputs": [
    {
     "name": "stdout",
     "output_type": "stream",
     "text": [
      "[('Virat Kohli', 24936), ('Jack Kallis', 25534), ('Ricky Ponting', 27483), ('Sachin Tendulkar', 34357)]\n"
     ]
    }
   ],
   "source": [
    "# Given list of tuples\n",
    "player_stats = [('Sachin Tendulkar', 34357), ('Ricky Ponting', 27483), ('Jack Kallis', 25534), ('Virat Kohli', 24936)]\n",
    "\n",
    "# Sort the list of tuples based on the second element (integer value)\n",
    "sorted_players = sorted(player_stats, key=lambda x: x[1])\n",
    "\n",
    "# Print the sorted result\n",
    "print(sorted_players)"
   ]
  },
  {
   "cell_type": "markdown",
   "id": "9de7d0cf-c495-4a06-a49f-b2669517efce",
   "metadata": {},
   "source": [
    "***\n",
    "\n",
    "__Q2. Write a Python Program to find the squares of all the numbers in the given list of integers using\n",
    "lambda and map functions.__\n",
    "\n",
    "__[1, 2, 3, 4, 5, 6, 7, 8, 9, 10]__\n",
    "\n",
    "Solution (2):"
   ]
  },
  {
   "cell_type": "code",
   "execution_count": 1,
   "id": "c4c4685a-6cd9-4e34-82e4-3f9dd1ece938",
   "metadata": {},
   "outputs": [
    {
     "name": "stdout",
     "output_type": "stream",
     "text": [
      "[1, 4, 9, 16, 25, 36, 49, 64, 81, 100]\n"
     ]
    }
   ],
   "source": [
    "# Define the list of integers\n",
    "numbers = [1, 2, 3, 4, 5, 6, 7, 8, 9, 10]\n",
    "\n",
    "# Use the map function with a lambda function to calculate the squares\n",
    "y = list(map(lambda x: x**2, numbers))\n",
    "\n",
    "# Print the result\n",
    "print(y)"
   ]
  },
  {
   "cell_type": "markdown",
   "id": "6dc4a80a-351e-474e-ba0a-881a75b7415a",
   "metadata": {},
   "source": [
    "***\n",
    "\n",
    "__Q.3. Write a python program to convert the given list of integers into a tuple of strings. Use map and lambda functions.__\n",
    "\n",
    "__Given String: [1, 2, 3, 4, 5, 6, 7, 8, 9, 10]__\n",
    "\n",
    "__Expected output: ('1', '2', '3', '4', '5', '6', '7', '8', '9', '10')__\n",
    "\n",
    "Soltuion (3):"
   ]
  },
  {
   "cell_type": "code",
   "execution_count": 2,
   "id": "114179da-efac-4598-82c8-0912b7bdaa35",
   "metadata": {},
   "outputs": [
    {
     "name": "stdout",
     "output_type": "stream",
     "text": [
      "('1', '2', '3', '4', '5', '6', '7', '8', '9', '10')\n"
     ]
    }
   ],
   "source": [
    "# Given list of integers\n",
    "int_list = [1, 2, 3, 4, 5, 6, 7, 8, 9, 10]\n",
    "\n",
    "# Use map and lambda to convert each integer to a string\n",
    "str_tuple = tuple(map(lambda x: str(x), int_list))\n",
    "\n",
    "# Print the result\n",
    "print(str_tuple)"
   ]
  },
  {
   "cell_type": "markdown",
   "id": "1b3a5a8e-d819-42f3-8056-2187a6c4d348",
   "metadata": {},
   "source": [
    "***\n",
    "\n",
    "__Q.4. Write a python program using reduce function to compute the product of a list containing numbers from 1 to 25.__\n",
    "\n",
    "Solution (4):"
   ]
  },
  {
   "cell_type": "code",
   "execution_count": 3,
   "id": "b3bd022c-fe24-4c53-aa81-77ef333a6585",
   "metadata": {},
   "outputs": [
    {
     "name": "stdout",
     "output_type": "stream",
     "text": [
      "Product of the list: 15511210043330985984000000\n"
     ]
    }
   ],
   "source": [
    "from functools import reduce\n",
    "\n",
    "# Create a list of numbers from 1 to 25\n",
    "numbers_list = list(range(1, 26))\n",
    "\n",
    "# Use reduce to compute the product of the list\n",
    "product = reduce(lambda x, y: x * y, numbers_list)\n",
    "\n",
    "# Print the result\n",
    "print(\"Product of the list:\", product)\n"
   ]
  },
  {
   "cell_type": "markdown",
   "id": "296a8140-2d20-4084-aa1f-6a6f11a805a6",
   "metadata": {},
   "source": [
    "***\n",
    "\n",
    "__Q5. Write a python program to filter the numbers in a given list that are divisible by 2 and 3 using the filter function.__\n",
    "\n",
    "__[2, 3, 6, 9, 27, 60, 90, 120, 55, 46]__\n",
    "\n",
    "Solution (5):"
   ]
  },
  {
   "cell_type": "code",
   "execution_count": 4,
   "id": "6ab313af-beef-4166-a9d4-c0c7a019e682",
   "metadata": {},
   "outputs": [
    {
     "name": "stdout",
     "output_type": "stream",
     "text": [
      "Numbers divisible by 2 and 3: [6, 60, 90, 120]\n"
     ]
    }
   ],
   "source": [
    "# Given list of numbers\n",
    "numbers_list = [2, 3, 6, 9, 27, 60, 90, 120, 55, 46]\n",
    "\n",
    "# Use filter to select numbers divisible by 2 and 3\n",
    "filtered_numbers = list(filter(lambda x: x % 2 == 0 and x % 3 == 0, numbers_list))\n",
    "\n",
    "# Print the filtered result\n",
    "print(\"Numbers divisible by 2 and 3:\", filtered_numbers)"
   ]
  },
  {
   "cell_type": "markdown",
   "id": "c40ff597-9d2b-43b1-ab5e-ea768c0a3106",
   "metadata": {},
   "source": [
    "***\n",
    "\n",
    "__Q6. Write a python program to find palindromes in the given list of strings using lambda and filter function.__\n",
    "\n",
    "__['python', 'php', 'aba', 'radar', 'level']__\n",
    "\n",
    "Solution (6):"
   ]
  },
  {
   "cell_type": "code",
   "execution_count": 5,
   "id": "a6a6796e-3777-4ad2-b7d9-7579c3e668e8",
   "metadata": {},
   "outputs": [
    {
     "name": "stdout",
     "output_type": "stream",
     "text": [
      "Palindromes: ['php', 'aba', 'radar', 'level']\n"
     ]
    }
   ],
   "source": [
    "# Given list of strings\n",
    "strings_list = ['python', 'php', 'aba', 'radar', 'level']\n",
    "\n",
    "# Use filter and lambda to select palindromes\n",
    "palindromes = list(filter(lambda x: x == x[::-1], strings_list))\n",
    "\n",
    "# Print the palindromes\n",
    "print(\"Palindromes:\", palindromes)\n"
   ]
  },
  {
   "cell_type": "markdown",
   "id": "58cb56f8-d812-4c0c-9dac-d17f757abbaf",
   "metadata": {},
   "source": [
    "***"
   ]
  }
 ],
 "metadata": {
  "kernelspec": {
   "display_name": "Python 3 (ipykernel)",
   "language": "python",
   "name": "python3"
  },
  "language_info": {
   "codemirror_mode": {
    "name": "ipython",
    "version": 3
   },
   "file_extension": ".py",
   "mimetype": "text/x-python",
   "name": "python",
   "nbconvert_exporter": "python",
   "pygments_lexer": "ipython3",
   "version": "3.10.8"
  }
 },
 "nbformat": 4,
 "nbformat_minor": 5
}
