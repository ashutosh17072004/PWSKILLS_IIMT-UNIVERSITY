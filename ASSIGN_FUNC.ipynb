{
 "cells": [
  {
   "cell_type": "markdown",
   "id": "19499d45-e8e9-4fd7-afd6-e98bd7b501a3",
   "metadata": {
    "tags": []
   },
   "source": [
    "# _PYTHON FUNCTION ASSIGNMENT: 1.0_\n",
    "\n",
    "***"
   ]
  },
  {
   "cell_type": "markdown",
   "id": "b92c2c78-39ff-4767-a133-8db880733e62",
   "metadata": {
    "tags": []
   },
   "source": [
    "\n",
    "\n",
    "__Q1. Which keyword is used to create a function? Create a function to return a list of odd numbers in the range of 1 to 25.__"
   ]
  },
  {
   "cell_type": "markdown",
   "id": "6c0b2cc3-1209-4c51-b763-4a505fbb5ac8",
   "metadata": {},
   "source": [
    "Solution (1): def is the keyword which is used to create function."
   ]
  },
  {
   "cell_type": "code",
   "execution_count": 1,
   "id": "75958a7c-baa9-4b48-bb9a-ce0b7798501c",
   "metadata": {},
   "outputs": [
    {
     "name": "stdout",
     "output_type": "stream",
     "text": [
      "[1, 3, 5, 7, 9, 11, 13, 15, 17, 19, 21, 23, 25]\n"
     ]
    }
   ],
   "source": [
    "def oddnumbers(start , ends):\n",
    "    oddnums = []\n",
    "    for numbers in range(start , ends+1):\n",
    "        if numbers % 2 != 0:\n",
    "            oddnums.append(numbers)\n",
    "    return oddnums\n",
    "\n",
    "Oddnuors = oddnumbers(1, 25)\n",
    "print(Oddnomrs)"
   ]
  },
  {
   "cell_type": "markdown",
   "id": "9d0b91ff-8b1e-412f-8c9c-4af298121aa9",
   "metadata": {
    "tags": []
   },
   "source": [
    "***\n",
    "\n",
    "__Q2. Why *args and **kwargs is used in some functions? Create a function each for *args and **kwargs to demonstrate their use.__"
   ]
  },
  {
   "cell_type": "markdown",
   "id": "a317e2d3-c7c5-4637-be08-4400caa61c1b",
   "metadata": {},
   "source": [
    "Solution (2):\n",
    " \n",
    " - *args is used to pass a variable number of non-keyword (positional) arguments to a function. It allows you to call a function with any number of arguments.\n",
    "\n",
    "- **kwargs is used to pass a variable number of keyword arguments to a function. It allows you to call a function with any number of keyword arguments."
   ]
  },
  {
   "cell_type": "code",
   "execution_count": 4,
   "id": "6fa82dcf-8114-4df4-830e-5a37af180bc2",
   "metadata": {},
   "outputs": [
    {
     "name": "stdout",
     "output_type": "stream",
     "text": [
      "Ashutosh Tiwari Alakh Pandey Prabhakar Trivedi Parmeshwari Sharma\n",
      "Ashutosh Tiwari Alakh Pandey Prabhakar Trivedi Parmeshwari Sharma\n"
     ]
    }
   ],
   "source": [
    "def iimt(a, b, c, d):\n",
    "    print(a, b, c, d)\n",
    "\n",
    "# Using *args\n",
    "args_list = [\"Ashutosh Tiwari\", \"Alakh Pandey\", \"Prabhakar Trivedi\", \"Parmeshwari Sharma\"]\n",
    "iimt(*args_list)\n",
    "\n",
    "# Using **kwargs\n",
    "kwargs_dict = {\"a\":\"Ashutosh Tiwari\",\"b\": \"Alakh Pandey\", \"c\" : \"Prabhakar Trivedi\", \"d\" : \"Parmeshwari Sharma\"}\n",
    "iimt(**kwargs_dict)"
   ]
  },
  {
   "cell_type": "markdown",
   "id": "fd2a5456-8e6e-487a-8bc8-eb284342fb42",
   "metadata": {},
   "source": [
    "***\n",
    "\n",
    "__Q3. What is an iterator in python? Name the method used to initialise the iterator object and the method\n",
    "used for iteration. Use these methods to print the first five elements of the given list [2, 4, 6, 8, 10, 12, 14,\n",
    "16, 18, 20].__"
   ]
  },
  {
   "cell_type": "markdown",
   "id": "ab33bd39-6230-4450-bfbc-2ea6515aff44",
   "metadata": {},
   "source": [
    "Solution (3): Iterator in python: An iterator is an object that allows you to iterate over a sequence of elements, such as a list. It keeps track of the current position within the sequence and provides a way to access the next element in the sequence.\n",
    "\n",
    "To create an iterator object in Python, you can use the iter() method, and to iterate over the elements, you can use the next() method\n",
    "\n",
    "Here's an example using the given list:"
   ]
  },
  {
   "cell_type": "code",
   "execution_count": 2,
   "id": "78f3d5d3-3626-4559-b264-1974067c73a6",
   "metadata": {},
   "outputs": [
    {
     "name": "stdout",
     "output_type": "stream",
     "text": [
      "2\n",
      "4\n",
      "6\n",
      "8\n",
      "10\n"
     ]
    }
   ],
   "source": [
    "# Given list\n",
    "my_list = [2, 4, 6, 8, 10, 12, 14, 16, 18, 20]\n",
    "\n",
    "# Create an iterator object\n",
    "my_iterator = iter(my_list)\n",
    "\n",
    "# Iterate and print the first five elements\n",
    "for _ in range(5):\n",
    "    element = next(my_iterator)\n",
    "    print(element)"
   ]
  },
  {
   "cell_type": "markdown",
   "id": "e3a66568-5292-4fca-b5cd-e19a67f47015",
   "metadata": {},
   "source": [
    "In this example, iter(my_list) creates an iterator object for the list my_list, and the next(my_iterator) method is used to retrieve the next element in the iteration. The loop is set to iterate five times, printing the first five elements of the list.\n",
    "\n",
    "Note: If you try to iterate beyond the end of the list using next(), it will raise the StopIteration exception. To avoid this, you can use a loop construct or the next() method with a default value:"
   ]
  },
  {
   "cell_type": "markdown",
   "id": "3353fb7d-272e-457c-8320-a7884ad99154",
   "metadata": {},
   "source": [
    "***\n",
    "\n",
    "__Q4. What is a generator function in python? Why yield keyword is used? Give an example of a generator function?__"
   ]
  },
  {
   "cell_type": "markdown",
   "id": "d5a602c9-79af-48a6-80b5-fc6e9ad8ba48",
   "metadata": {},
   "source": [
    "Solution (4): A generator function in Python is a special type of function that allows you to iterate over a potentially large sequence of data without generating the entire sequence in memory at once. Unlike regular functions that return a value and then terminate, generator functions use the yield keyword to produce a series of values over multiple calls.\n",
    "\n",
    "The yield keyword is used in a generator function to pause its execution and produce a value. When the generator function is called again, it resumes execution from where it was paused, retaining the state of local variables. This allows you to iterate over a sequence of values without the need to store the entire sequence in memory.\n",
    "\n",
    "Here's an example of a simple generator function that generates the first n squares:"
   ]
  },
  {
   "cell_type": "code",
   "execution_count": 3,
   "id": "6e636650-3804-49bf-9830-b123f68f453b",
   "metadata": {},
   "outputs": [
    {
     "name": "stdout",
     "output_type": "stream",
     "text": [
      "0\n",
      "1\n",
      "4\n",
      "9\n",
      "16\n"
     ]
    }
   ],
   "source": [
    "def generate_squares(n):\n",
    "    for i in range(n):\n",
    "        yield i ** 2\n",
    "\n",
    "# Using the generator function\n",
    "squares_generator = generate_squares(5)\n",
    "\n",
    "# Iterating over the generated squares\n",
    "for square in squares_generator:\n",
    "    print(square)\n"
   ]
  },
  {
   "cell_type": "markdown",
   "id": "1119dfa5-14dc-4ebd-a887-ccdcbb330e1e",
   "metadata": {},
   "source": [
    "In this example, the generate_squares function is a generator function. It uses a for loop to iterate over the range from 0 to n-1 and yields the square of each number. When you iterate over the generator using a for loop or the next() function, the function is executed up to the yield statement, and the yielded value is produced. The function's state is then preserved, allowing it to continue from where it left off when called again.\n",
    "\n",
    "Generator functions are particularly useful when dealing with large datasets or infinite sequences, as they allow you to generate and process values on-the-fly without the need to store them all in memory. This can result in more efficient memory usage and improved performance compared to using lists or other data structures.\n",
    "\n",
    "\n",
    "***"
   ]
  },
  {
   "cell_type": "markdown",
   "id": "802156d6-aa9a-482c-a4b8-989fe8a2b678",
   "metadata": {},
   "source": [
    "__Q5. Create a generator function for prime numbers less than 1000. Use the next() method to print the first 20 prime numbers.__\n",
    "\n",
    "Solution (5):"
   ]
  },
  {
   "cell_type": "code",
   "execution_count": 2,
   "id": "0afe29ac-8b5c-4f98-9f53-35d3b3e8f66b",
   "metadata": {},
   "outputs": [
    {
     "name": "stdout",
     "output_type": "stream",
     "text": [
      "2\n",
      "3\n",
      "5\n",
      "7\n",
      "11\n",
      "13\n",
      "17\n",
      "19\n",
      "23\n",
      "29\n",
      "31\n",
      "37\n",
      "41\n",
      "43\n",
      "47\n",
      "53\n",
      "59\n",
      "61\n",
      "67\n",
      "71\n"
     ]
    }
   ],
   "source": [
    "def generate_primes():\n",
    "    # Generator function for prime numbers less than 1000\n",
    "    primes = []\n",
    "    num = 2\n",
    "    while num < 1000:\n",
    "        is_prime = all(num % i != 0 for i in primes)\n",
    "        if is_prime:\n",
    "            yield num\n",
    "            primes.append(num)\n",
    "        num += 1\n",
    "\n",
    "# Using the generator function to print the first 20 prime numbers\n",
    "primes_generator = generate_primes()\n",
    "\n",
    "for _ in range(20):\n",
    "    prime = next(primes_generator)\n",
    "    print(prime)"
   ]
  },
  {
   "cell_type": "markdown",
   "id": "78676ff5-f704-40ac-8dc8-37716bd2a126",
   "metadata": {},
   "source": [
    "***\n",
    "\n"
   ]
  },
  {
   "cell_type": "markdown",
   "id": "4eebdffe-301d-425e-87cb-efe57dcb347e",
   "metadata": {},
   "source": [
    "__Q.6. Write a python program to print the first 10 Fibonacci numbers using a while loop.__\n",
    "\n",
    "Solution (6):"
   ]
  },
  {
   "cell_type": "code",
   "execution_count": 3,
   "id": "077db95b-2449-4e9b-9dfa-70804693d049",
   "metadata": {},
   "outputs": [
    {
     "name": "stdout",
     "output_type": "stream",
     "text": [
      "0 1 1 2 3 5 8 13 21 34 "
     ]
    }
   ],
   "source": [
    "# Function to print the first 10 Fibonacci numbers\n",
    "def print_fibonacci():\n",
    "    # Initialize variables for the first two numbers in the sequence\n",
    "    a, b = 0, 1\n",
    "    \n",
    "    # Counter for the number of Fibonacci numbers printed\n",
    "    count = 0\n",
    "    \n",
    "    # Use a while loop to generate and print the first 10 Fibonacci numbers\n",
    "    while count < 10:\n",
    "        print(a, end=\" \")\n",
    "        \n",
    "        # Update variables for the next iteration\n",
    "        a, b = b, a + b\n",
    "        \n",
    "        # Increment the counter\n",
    "        count += 1\n",
    "\n",
    "# Call the function to print the first 10 Fibonacci numbers\n",
    "print_fibonacci()\n"
   ]
  },
  {
   "cell_type": "markdown",
   "id": "dcfdfbba-10f7-4d8f-a005-c7e6e2b6d7fd",
   "metadata": {},
   "source": [
    "***\n",
    "\n",
    "__Q.7. Write a List Comprehension to iterate through the given string: ‘pwskills’.__\n",
    "\n",
    "__Expected output: ['p', 'w', 's', 'k', 'i', 'l', 'l', 's']__\n",
    "\n",
    "Solution (7):"
   ]
  },
  {
   "cell_type": "code",
   "execution_count": 4,
   "id": "dc1f781f-0988-4a3d-b0f2-333875039072",
   "metadata": {},
   "outputs": [
    {
     "name": "stdout",
     "output_type": "stream",
     "text": [
      "['p', 'w', 's', 'k', 'i', 'l', 'l', 's']\n"
     ]
    }
   ],
   "source": [
    "input_string = 'pwskills'\n",
    "result_list = [char for char in input_string if char in 'pwskills']\n",
    "print(result_list)\n"
   ]
  },
  {
   "cell_type": "markdown",
   "id": "45c891bf-959b-434d-93b6-711f1705d6a8",
   "metadata": {},
   "source": [
    "***\n",
    "\n",
    "__Q.8. Write a python program to check whether a given number is Palindrome or not using a while loop.__\n",
    "\n",
    "Solution (8):"
   ]
  },
  {
   "cell_type": "code",
   "execution_count": 8,
   "id": "6e83853f-5103-40f1-9a71-62af2c56abe6",
   "metadata": {},
   "outputs": [
    {
     "name": "stdin",
     "output_type": "stream",
     "text": [
      "Enter a number:  12\n"
     ]
    },
    {
     "name": "stdout",
     "output_type": "stream",
     "text": [
      "12 is not a palindrome.\n"
     ]
    }
   ],
   "source": [
    "def is_palindrome(num):\n",
    "    original_num = num\n",
    "    reversed_num = 0\n",
    "    \n",
    "    while num > 0:\n",
    "        digit = num % 10\n",
    "        reversed_num = reversed_num * 10 + digit\n",
    "        num //= 10\n",
    "\n",
    "    return original_num == reversed_num\n",
    "\n",
    "# Input: Take a number from the user\n",
    "num = int(input(\"Enter a number: \"))\n",
    "\n",
    "# Check if the number is a palindrome\n",
    "if is_palindrome(num):\n",
    "    print(f\"{num} is a palindrome.\")\n",
    "else:\n",
    "    print(f\"{num} is not a palindrome.\")\n"
   ]
  },
  {
   "cell_type": "markdown",
   "id": "7bfbb22d-e9cc-46cb-8742-eb3e064e0822",
   "metadata": {},
   "source": [
    "***\n",
    "\n",
    "__Q.9. Write a code to print odd numbers from 1 to 100 using list comprehension.__\n",
    "\n",
    "Solution (9):"
   ]
  },
  {
   "cell_type": "code",
   "execution_count": 10,
   "id": "b5c95858-a07b-4688-904a-449121776c9f",
   "metadata": {},
   "outputs": [
    {
     "name": "stdout",
     "output_type": "stream",
     "text": [
      "[1, 3, 5, 7, 9, 11, 13, 15, 17, 19, 21, 23, 25, 27, 29, 31, 33, 35, 37, 39, 41, 43, 45, 47, 49, 51, 53, 55, 57, 59, 61, 63, 65, 67, 69, 71, 73, 75, 77, 79, 81, 83, 85, 87, 89, 91, 93, 95, 97, 99]\n"
     ]
    }
   ],
   "source": [
    "odd_numbers = [num for num in range(1, 101) if num % 2 != 0]\n",
    "\n",
    "print(odd_numbers)\n"
   ]
  },
  {
   "cell_type": "markdown",
   "id": "0da3131c-ed01-4e9c-9be3-3ed6a2779bff",
   "metadata": {},
   "source": [
    "***"
   ]
  },
  {
   "cell_type": "code",
   "execution_count": null,
   "id": "85f92d30-3995-4ce7-b64f-03983d9d6fb6",
   "metadata": {},
   "outputs": [],
   "source": []
  }
 ],
 "metadata": {
  "kernelspec": {
   "display_name": "Python 3 (ipykernel)",
   "language": "python",
   "name": "python3"
  },
  "language_info": {
   "codemirror_mode": {
    "name": "ipython",
    "version": 3
   },
   "file_extension": ".py",
   "mimetype": "text/x-python",
   "name": "python",
   "nbconvert_exporter": "python",
   "pygments_lexer": "ipython3",
   "version": "3.10.8"
  }
 },
 "nbformat": 4,
 "nbformat_minor": 5
}
