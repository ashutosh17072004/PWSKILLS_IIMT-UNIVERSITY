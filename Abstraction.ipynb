{
 "cells": [
  {
   "cell_type": "markdown",
   "id": "62b6e595-244f-43c2-a5ec-0ad5fe5e3774",
   "metadata": {},
   "source": [
    "# _Abstraction and Encapsulation {ASSIGNEMENT}_\n",
    "\n",
    "___"
   ]
  },
  {
   "cell_type": "markdown",
   "id": "c0f80f2c-a843-4cfd-ba53-f68064368025",
   "metadata": {},
   "source": [
    "__Q.1. What is Abstraction in OOps? Explain with an example?__"
   ]
  },
  {
   "cell_type": "markdown",
   "id": "4ba154b6-e63a-4275-bfee-ec6a7b55abc2",
   "metadata": {},
   "source": [
    "Solution (1): Abstraction is one of the four fundamental principles of Object-Oriented Programming (OOP), alongside encapsulation, inheritance, and polymorphism. Abstraction involves simplifying complex systems by modeling classes based on the essential properties and behaviors they share, while ignoring or hiding the irrelevant details."
   ]
  },
  {
   "cell_type": "code",
   "execution_count": 4,
   "id": "084e4115-f55a-4a3a-b700-95a039232afc",
   "metadata": {},
   "outputs": [],
   "source": [
    "import abc\n",
    "class Saraswati:\n",
    "    \n",
    "    @abc.abstractmethod\n",
    "    def Result(self):\n",
    "        pass\n",
    "    \n",
    "    @abc.abstractmethod\n",
    "    def fees(self):\n",
    "        pass\n",
    "    \n",
    "    @abc.abstractmethod\n",
    "    def Attendence_and_leave(self):\n",
    "        pass\n",
    "    \n",
    "class RPM(Saraswati):\n",
    "    \n",
    "    def Result(self):\n",
    "        return \"9.6 CGPA\"\n",
    "    \n",
    "    def fees(self):\n",
    "        return 47455.96\n",
    "    \n",
    "    def Attendence_and_leave(self):\n",
    "        return 20.25\n",
    "    \n",
    "class RSM(Saraswati):\n",
    "    \n",
    "    def Result(self):\n",
    "        return \"9.2 CGPA\"\n",
    "    \n",
    "    def fees(self):\n",
    "        return 4455.96\n",
    "    \n",
    "    def Attendence_and_leave(self):\n",
    "        50.25\n",
    "        \n",
    "object_RSM = RSM()\n",
    "object_RPM = RPM()\n",
    "\n",
    "print(\"Result:\",object_RPM.Result())\n",
    "print(\"Fees:\",object_RSM.fees())\n",
    "print(\"Attendence:\",object_RPM.Attendence_and_leave())"
   ]
  },
  {
   "cell_type": "markdown",
   "id": "3e1ecd77-09d8-479e-915b-38c26655cb59",
   "metadata": {},
   "source": [
    "***\n",
    "\n",
    "__Q2. Differentiate between Abstraction and Encapsulation. Explain with an example.__"
   ]
  },
  {
   "cell_type": "markdown",
   "id": "d9074069-603c-4caf-b3d5-d39c3ff5edb8",
   "metadata": {},
   "source": [
    "Solution (2): \n",
    "Abstraction: Abstraction is the process of simplifying complex systems by modeling classes based on essential properties and behaviors, while ignoring unnecessary details."
   ]
  },
  {
   "cell_type": "code",
   "execution_count": 2,
   "id": "8f50c02d-25e7-4336-9120-ed8fdb186867",
   "metadata": {},
   "outputs": [
    {
     "name": "stdout",
     "output_type": "stream",
     "text": [
      "9369927105\n",
      "7369564510\n",
      "IIMT University\n"
     ]
    }
   ],
   "source": [
    "#Example of abstraction\n",
    "\n",
    "import abc\n",
    "class Student:\n",
    "    \n",
    "    @abc.abstractmethod\n",
    "    def Course(self):\n",
    "        pass\n",
    "    \n",
    "    @abc.abstractmethod\n",
    "    def University(self):\n",
    "        pass\n",
    "    \n",
    "    @abc.abstractmethod\n",
    "    def Mobile_Number(self):\n",
    "        pass\n",
    "\n",
    "\n",
    "class Ashutosh:\n",
    "    \n",
    "    def Course(self):\n",
    "        return \"Bachelor of Technology in computer science and engineering\"\n",
    "    \n",
    "    def University(self):\n",
    "        return \"IIMT University\"\n",
    "    \n",
    "    def Mobile_Number(self):\n",
    "        return \"9369927105\"\n",
    "\n",
    "class Nupur:\n",
    "    \n",
    "    def Course(self):\n",
    "        return \"Bachelor of Science and MIcrobiology and Life Sciences\"\n",
    "    \n",
    "    def University(self):\n",
    "        return \"IIMT University\"\n",
    "    \n",
    "    def Mobile_Number(self):\n",
    "        return \"7369564510\"\n",
    "    \n",
    "\n",
    "Object_Ashutosh = Ashutosh()\n",
    "Object_Nupur = Nupur()\n",
    "\n",
    "print(Object_Ashutosh.Mobile_Number())\n",
    "print(Object_Nupur.Mobile_Number())\n",
    "print(Object_Ashutosh.University())"
   ]
  },
  {
   "cell_type": "markdown",
   "id": "4aaa5397-9578-4018-b74d-24e58ef6a4c8",
   "metadata": {},
   "source": [
    "Encapsulation: Encapsulation is one of the fundamental concepts is nobject oriened programming. It describes the idea of wrapping data and the methods that work on data within one unit. This puts restrictions on accessing variables and methods directly and can prevent the accidental modification of data."
   ]
  },
  {
   "cell_type": "code",
   "execution_count": 33,
   "id": "e5d271ee-2f8e-41b5-bc3a-c6e4182c6c72",
   "metadata": {},
   "outputs": [
    {
     "name": "stdout",
     "output_type": "stream",
     "text": [
      "Withdrawal successful. Thank you!\n"
     ]
    },
    {
     "data": {
      "text/plain": [
       "200"
      ]
     },
     "execution_count": 33,
     "metadata": {},
     "output_type": "execute_result"
    }
   ],
   "source": [
    "#Example of Encapsulation\n",
    "\n",
    "class PNB_BANK_Account:\n",
    "    \n",
    "    def __init__(self,balance):\n",
    "        self.balance = balance\n",
    "        \n",
    "    def deposit(self,amount):\n",
    "        self.balance = self.balance + self.amount\n",
    "        \n",
    "    def withdraw(self,withdraw):\n",
    "        \n",
    "        if self.balance >= withdraw:\n",
    "            self.balance = self.balance- withdraw\n",
    "            print(\"Withdrawal successful. Thank you!\")\n",
    "            return withdraw\n",
    "        \n",
    "        else:\n",
    "            print(\"Error: Insufficient funds\")\n",
    "            \n",
    "    def get_balance(self):\n",
    "        return self.balance\n",
    "    \n",
    "pnb_object = PNB_BANK_Account(800)\n",
    "pnb_object.withdraw(200)\n"
   ]
  },
  {
   "cell_type": "markdown",
   "id": "d17721a0-9d2d-47fb-84fe-b0a46367b23b",
   "metadata": {},
   "source": [
    "***"
   ]
  },
  {
   "cell_type": "markdown",
   "id": "46c8751a-630b-4d3f-8ea5-18f848c409fb",
   "metadata": {},
   "source": [
    "__Q.3 What is abc module in python? Why is it used?__"
   ]
  },
  {
   "cell_type": "markdown",
   "id": "e839c343-5900-4e55-9274-c804f2e2e0d9",
   "metadata": {},
   "source": [
    "Solution (3): In Python, the abc module stands for \"Abstract Base Classes.\" It provides a way to define abstract base classes in Python, and it is part of the standard library. Abstract base classes are classes that cannot be instantiated and are meant to be subclassed by concrete classes.\n",
    "The primary purpose of the abc module is to support the creation and use of abstract base classes. Abstract base classes define a common interface for a set of related classes, and they can include abstract methods that must be implemented by any concrete subclass.\n",
    "Key components of the abc module include:\n",
    "- ABC (Abstract Base Class): The ABC class is a base class for creating abstract base classes. You can create your own abstract base class by subclassing ABC.\n",
    "- Abstractmethod decorator: This decorator is used to declare abstract methods within abstract base classes. Abstract methods are methods that must be implemented by concrete subclasses."
   ]
  },
  {
   "cell_type": "code",
   "execution_count": 6,
   "id": "0a209696-9a76-4718-83f8-6ad790e25c14",
   "metadata": {},
   "outputs": [
    {
     "name": "stdout",
     "output_type": "stream",
     "text": [
      "25\n"
     ]
    }
   ],
   "source": [
    "from abc import ABC, abstractmethod\n",
    "\n",
    "class Shape(ABC):\n",
    "    @abstractmethod\n",
    "    def area(self):\n",
    "        pass\n",
    "\n",
    "    class Square(Shape):\n",
    "        def __init__(self, side):\n",
    "            self.side = side\n",
    "\n",
    "    def area(self):\n",
    "        return self.side ** 2\n",
    "    \n",
    "    \n",
    "square_instance = Square(side=5)\n",
    "print(square_instance.area()) "
   ]
  },
  {
   "cell_type": "markdown",
   "id": "ed4a8cea-a782-4306-9743-42be921b21af",
   "metadata": {},
   "source": [
    "***\n",
    "__Q.4. How can we achieve data abstraction?__"
   ]
  },
  {
   "cell_type": "markdown",
   "id": "291acee4-d8d9-4409-b222-cbe3f0cd582e",
   "metadata": {},
   "source": [
    "Solution (4): Data abstraction is a concept in object-oriented programming that refers to the separation of the implementation details from the interface, allowing you to focus on what an object does rather than how it achieves its functionality. In Python, you can achieve data abstraction through the use of abstract classes and abstract methods, encapsulation, and other object-oriented principles.\n",
    "Here are some ways to achieve data abstraction in Python:\n",
    "Abstract Classes and Methods (Using abc module):\n",
    "Use the abc (Abstract Base Classes) module to define abstract base classes and abstract methods.\n",
    "- Abstract classes provide a blueprint for other classes but cannot be instantiated themselves.\n",
    "- Abstract methods in these classes must be implemented by concrete subclasses."
   ]
  },
  {
   "cell_type": "code",
   "execution_count": 1,
   "id": "28475c01-0dcc-4191-8d37-d58e3f37ba5f",
   "metadata": {},
   "outputs": [
    {
     "name": "stdout",
     "output_type": "stream",
     "text": [
      "Rectangle Area: 15\n",
      "Rectangle Perimeter: 16\n",
      "\n",
      "Circle Area: 153.86\n",
      "Circle Perimeter: 43.96\n"
     ]
    }
   ],
   "source": [
    "from abc import ABC, abstractmethod\n",
    "\n",
    "# Abstract class representing a shape\n",
    "class Shape(ABC):\n",
    "\n",
    "    @abstractmethod\n",
    "    def area(self):\n",
    "        pass\n",
    "\n",
    "    @abstractmethod\n",
    "    def perimeter(self):\n",
    "        pass\n",
    "\n",
    "# Concrete class representing a rectangle\n",
    "class Rectangle(Shape):\n",
    "\n",
    "    def __init__(self, length, width):\n",
    "        self.length = length\n",
    "        self.width = width\n",
    "\n",
    "    def area(self):\n",
    "        return self.length * self.width\n",
    "\n",
    "    def perimeter(self):\n",
    "        return 2 * (self.length + self.width)\n",
    "\n",
    "# Concrete class representing a circle\n",
    "class Circle(Shape):\n",
    "\n",
    "    def __init__(self, radius):\n",
    "        self.radius = radius\n",
    "\n",
    "    def area(self):\n",
    "        return 3.14 * self.radius * self.radius\n",
    "\n",
    "    def perimeter(self):\n",
    "        return 2 * 3.14 * self.radius\n",
    "\n",
    "# Client code\n",
    "rectangle = Rectangle(5, 3)\n",
    "circle = Circle(7)\n",
    "\n",
    "# Using abstraction to calculate area and perimeter without worrying about implementation details\n",
    "print(\"Rectangle Area:\", rectangle.area())\n",
    "print(\"Rectangle Perimeter:\", rectangle.perimeter())\n",
    "\n",
    "print(\"\\nCircle Area:\", circle.area())\n",
    "print(\"Circle Perimeter:\", circle.perimeter())\n"
   ]
  },
  {
   "cell_type": "markdown",
   "id": "27e54c1f-731f-411e-99b8-a78acd34befc",
   "metadata": {},
   "source": [
    "***\n",
    "\n",
    "__Q.5. Can we create an instance of an abstract class? Explain your answer.__"
   ]
  },
  {
   "cell_type": "markdown",
   "id": "e0843a96-16d6-43ee-ab8c-01db13e2d91b",
   "metadata": {},
   "source": [
    "\n",
    "Solution (5): In Python, you cannot create an instance of an abstract class directly. An abstract class is a class that cannot be instantiated on its own and is meant to be subclassed by other classes. Abstract classes are created using the abc module in Python, and they often include abstract methods, which are methods that must be implemented by any concrete (non-abstract) subclass.\n",
    "\n",
    "Here's a brief explanation of why you cannot create an instance of an abstract class:\n",
    "\n",
    "- Abstract Methods: Abstract classes may have abstract methods, which are methods without a body. These methods are meant to be implemented by concrete (non-abstract) subclasses. Since the abstract class itself doesn't provide an implementation for these methods, it doesn't make sense to create an instance of the abstract class.\n",
    "\n",
    "- Incomplete Implementation: Abstract classes often serve as a blueprint for other classes. They may provide some common functionality but leave certain methods abstract, expecting concrete subclasses to implement those methods to suit their specific needs. Because of this incomplete implementation, instances of abstract classes would lack necessary functionality.\n",
    "\n",
    "This code defines an abstract base class called “Polygon” using the ABC (Abstract Base Class) module in Python. The “Polygon” class has an abstract method called “noofsides” that needs to be implemented by its subclasses.\n",
    "\n",
    "There are four subclasses of “Polygon” defined: “Triangle,” “Pentagon,” “Hexagon,” and “Quadrilateral.” Each of these subclasses overrides the “noofsides” method and provides its own implementation by printing the number of sides it has.\n",
    "\n",
    "In the driver code, instances of each subclass are created, and the “noofsides” method is called on each instance to display the number of sides specific to that shape."
   ]
  },
  {
   "cell_type": "code",
   "execution_count": 2,
   "id": "4067271c-6d33-4bec-aa36-17b352d86e29",
   "metadata": {},
   "outputs": [
    {
     "name": "stdout",
     "output_type": "stream",
     "text": [
      "I have 3 sides\n",
      "I have 4 sides\n",
      "I have 5 sides\n",
      "I have 6 sides\n"
     ]
    }
   ],
   "source": [
    "# Python program showing \n",
    "# abstract base class work \n",
    "from abc import ABC, abstractmethod \n",
    "\n",
    "\n",
    "class Polygon(ABC): \n",
    "\n",
    "\t@abstractmethod\n",
    "\tdef noofsides(self): \n",
    "\t\tpass\n",
    "\n",
    "\n",
    "class Triangle(Polygon): \n",
    "\n",
    "\t# overriding abstract method \n",
    "\tdef noofsides(self): \n",
    "\t\tprint(\"I have 3 sides\") \n",
    "\n",
    "\n",
    "class Pentagon(Polygon): \n",
    "\n",
    "\t# overriding abstract method \n",
    "\tdef noofsides(self): \n",
    "\t\tprint(\"I have 5 sides\") \n",
    "\n",
    "\n",
    "class Hexagon(Polygon): \n",
    "\n",
    "\t# overriding abstract method \n",
    "\tdef noofsides(self): \n",
    "\t\tprint(\"I have 6 sides\") \n",
    "\n",
    "\n",
    "class Quadrilateral(Polygon): \n",
    "\n",
    "\t# overriding abstract method \n",
    "\tdef noofsides(self): \n",
    "\t\tprint(\"I have 4 sides\") \n",
    "\n",
    "\n",
    "# Driver code \n",
    "R = Triangle() \n",
    "R.noofsides() \n",
    "\n",
    "K = Quadrilateral() \n",
    "K.noofsides() \n",
    "\n",
    "R = Pentagon() \n",
    "R.noofsides() \n",
    "\n",
    "K = Hexagon() \n",
    "K.noofsides() \n"
   ]
  },
  {
   "cell_type": "markdown",
   "id": "936fef73-f0e2-48cc-a134-18668a83bcf2",
   "metadata": {},
   "source": [
    "***"
   ]
  },
  {
   "cell_type": "code",
   "execution_count": null,
   "id": "bcbaa53e-adee-41b3-913a-940bcdb2fa68",
   "metadata": {},
   "outputs": [],
   "source": []
  }
 ],
 "metadata": {
  "kernelspec": {
   "display_name": "Python 3 (ipykernel)",
   "language": "python",
   "name": "python3"
  },
  "language_info": {
   "codemirror_mode": {
    "name": "ipython",
    "version": 3
   },
   "file_extension": ".py",
   "mimetype": "text/x-python",
   "name": "python",
   "nbconvert_exporter": "python",
   "pygments_lexer": "ipython3",
   "version": "3.10.8"
  }
 },
 "nbformat": 4,
 "nbformat_minor": 5
}
