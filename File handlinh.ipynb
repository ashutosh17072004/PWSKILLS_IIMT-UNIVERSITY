{
 "cells": [
  {
   "cell_type": "markdown",
   "id": "a2a8556d-c41d-4bfc-9c0c-d8f1a6c31c50",
   "metadata": {},
   "source": [
    "# _Exception handling-1_\n",
    "# ASSIGNEMENT QUESTIONS"
   ]
  },
  {
   "cell_type": "markdown",
   "id": "3111715a-2c2a-431d-9dea-89c2375ac6ee",
   "metadata": {},
   "source": [
    "### Q1. What is an Exception in python. Write the difference between Exceptions and Syntax errors."
   ]
  },
  {
   "cell_type": "markdown",
   "id": "08f7e659-7baa-43d6-a91c-4ef74ec63541",
   "metadata": {},
   "source": [
    "Solution(1):\n",
    "\n",
    "### `Exception and Syntax Errors:`\n",
    "\n",
    "An exception is an event that occurs during the execution of a program, disrupting the normal flow of the program's instructions. When an exceptional situation arises, an exception is raised, and the program's control flow is transferred to an appropriate exception-handling code. Exceptions in Python are a way to handle errors and unexpected situations gracefully.\n",
    "\n",
    "On the other hand, syntax errors are a different category of issues in Python. Syntax errors occur when the code violates the grammatical rules of the Python language. These errors are detected by the Python interpreter during the parsing phase before the program is executed. Syntax errors prevent the program from running at all until they are fixed."
   ]
  },
  {
   "cell_type": "code",
   "execution_count": 1,
   "id": "e5bbe98f-8ebc-4d8b-8dba-4b1f0a5b25dc",
   "metadata": {},
   "outputs": [],
   "source": [
    "#exceptation examples:\n",
    "import logging\n",
    "logging.basicConfig(filename=\"Assignement_Q1_exp1.log\", level=logging.NOTSET, filemode= 'w', format=\"%(asctime)s %(name)s %(levelname)s %(message)s\")\n",
    "   \n",
    "logging.info(\"I am importing the logging section into the Exception and Syntax errors.\")\n",
    "\n",
    "try:\n",
    "    logging.info(\"I am  in the trying section and trying to dividing 10 by zero.\")\n",
    "    a = 10/0\n",
    "    logging.info(\"I am  in the trying section and trying to ultimately the result is {}\".format(a))\n",
    "except Exception as e:\n",
    "    logging.error(\"I am in the Exception section and trying to ultimately I had divided then 10 by 0. Then the result as {}\".format(e))\n",
    "    logging.warning(f\"{e} division error occoured\")\n",
    "except ZeroDivisionError as e: \n",
    "    logging.error(\"I am Exception in the section and trying to ultimately I had divided then 10 by 0. Then the result as {}\".format(e))\n",
    "else:\n",
    "    logging.info(\"The result while dividing 10 by 0 then the result is {}\".format(a))\n",
    "finally:\n",
    "    logging.critical(\"Ultimately the progrm has been executed\")"
   ]
  },
  {
   "cell_type": "code",
   "execution_count": 1,
   "id": "71d3b1a4-7a2d-443f-b69a-3cf7c8f60f8e",
   "metadata": {},
   "outputs": [
    {
     "ename": "SyntaxError",
     "evalue": "invalid syntax (1264163796.py, line 5)",
     "output_type": "error",
     "traceback": [
      "\u001b[0;36m  Cell \u001b[0;32mIn[1], line 5\u001b[0;36m\u001b[0m\n\u001b[0;31m    logging.info(\"Hello, World\"|)\u001b[0m\n\u001b[0m                                ^\u001b[0m\n\u001b[0;31mSyntaxError\u001b[0m\u001b[0;31m:\u001b[0m invalid syntax\n"
     ]
    }
   ],
   "source": [
    "#Syntax Errors\n",
    "import logging\n",
    "logging.basicConfig(filename=\"Assignment_Q1exp2.log\", level=logging.NOTSET, filemode= 'w', format=\"%(asctime)s %(name)s %(levelname)s %(message)s\")\n",
    "try:\n",
    "    logging.info(\"Hello, World\"|)\n",
    "except Syntax Error as e:\n",
    "    logging.error(\"An error has been occoured\")\n",
    "    logging.warning(f\"Exception: {e}\")"
   ]
  },
  {
   "cell_type": "markdown",
   "id": "279a887f-2813-4b09-ad1a-72d05a75aec6",
   "metadata": {},
   "source": [
    "***"
   ]
  },
  {
   "cell_type": "markdown",
   "id": "c83f6267-8495-4d60-b1a5-b0aac1a56a22",
   "metadata": {},
   "source": [
    "### Q2. What happen when an expection is not handled? Explain with an Example."
   ]
  },
  {
   "cell_type": "markdown",
   "id": "ae7fb966-eec8-4fbb-9afa-c3a41dc34abc",
   "metadata": {},
   "source": [
    "Solution(2): \n",
    "\n",
    "### `Condtion in which the expection is not be handled`\n",
    "\n",
    "When an unexception is not handled in a program it can lead the unexpected behaviour of the code and which may result the running program is teminitng suddenly. Unhandle expection can cause the program crash and the error is displayed to the user and logged for futher analysis.\n",
    "\n",
    "Example of the condition where an exception is not handled."
   ]
  },
  {
   "cell_type": "markdown",
   "id": "14c11681-1989-4784-91db-818527baac60",
   "metadata": {},
   "source": [
    "In the above program we are trying to divide 10 by 0 which is impossible because it is not possible to divide any number by zero because when we divide any number by zero we get the result infinite.\n",
    "\n",
    "`Example of Condtion in which the expection is not be handled`"
   ]
  },
  {
   "cell_type": "code",
   "execution_count": 4,
   "id": "2eb53a39-a873-4d55-8884-d9e6598c88e3",
   "metadata": {},
   "outputs": [
    {
     "ename": "ZeroDivisionError",
     "evalue": "division by zero",
     "output_type": "error",
     "traceback": [
      "\u001b[0;31m---------------------------------------------------------------------------\u001b[0m",
      "\u001b[0;31mZeroDivisionError\u001b[0m                         Traceback (most recent call last)",
      "Cell \u001b[0;32mIn[4], line 15\u001b[0m\n\u001b[1;32m     12\u001b[0m num2 \u001b[38;5;241m=\u001b[39m \u001b[38;5;241m0\u001b[39m\n\u001b[1;32m     14\u001b[0m logging\u001b[38;5;241m.\u001b[39minfo(\u001b[38;5;124m\"\u001b[39m\u001b[38;5;124mWe call the \u001b[39m\u001b[38;5;124m'\u001b[39m\u001b[38;5;124mdivide_number\u001b[39m\u001b[38;5;124m'\u001b[39m\u001b[38;5;124m function and pass num1 and num2 as argument in place of a and b. To perform the division between and b\u001b[39m\u001b[38;5;124m\"\u001b[39m)\n\u001b[0;32m---> 15\u001b[0m result \u001b[38;5;241m=\u001b[39m \u001b[43mdivide_number\u001b[49m\u001b[43m(\u001b[49m\u001b[43mnum1\u001b[49m\u001b[43m,\u001b[49m\u001b[43m \u001b[49m\u001b[43mnum2\u001b[49m\u001b[43m)\u001b[49m\n\u001b[1;32m     16\u001b[0m logging\u001b[38;5;241m.\u001b[39merror(\u001b[38;5;124m\"\u001b[39m\u001b[38;5;124mThe result is \u001b[39m\u001b[38;5;132;01m{}\u001b[39;00m\u001b[38;5;124m\"\u001b[39m\u001b[38;5;241m.\u001b[39mformat(result))\n",
      "Cell \u001b[0;32mIn[4], line 8\u001b[0m, in \u001b[0;36mdivide_number\u001b[0;34m(a, b)\u001b[0m\n\u001b[1;32m      7\u001b[0m \u001b[38;5;28;01mdef\u001b[39;00m \u001b[38;5;21mdivide_number\u001b[39m(a,b):\n\u001b[0;32m----> 8\u001b[0m     \u001b[38;5;28;01mreturn\u001b[39;00m \u001b[43ma\u001b[49m\u001b[38;5;241;43m/\u001b[39;49m\u001b[43mb\u001b[49m\n",
      "\u001b[0;31mZeroDivisionError\u001b[0m: division by zero"
     ]
    }
   ],
   "source": [
    "import logging\n",
    "\n",
    "logging.basicConfig(filename=\"Assignement_Q1_2.log\", level=logging.NOTSET, filemode= 'w', format=\"%(asctime)s %(name)s %(levelname)s %(message)s\")\n",
    "\n",
    "logging.info(\"firstly create the function 'divide_number' and pass the two arguments into it which is used to perform the division of the first agrument that passed in the function denoted by num1 from the second argument which is passed in the function and denoted by num2 and it will return Quotient which is denotred by a/b.\")\n",
    "\n",
    "def divide_number(a,b):\n",
    "    return a/b\n",
    "    \n",
    "logging.info(\"Below we have stored the value of each variable. firstly we have stored 9 in num1 variable then 0 in num2.\")\n",
    "num1 = 9\n",
    "num2 = 0\n",
    "\n",
    "logging.info(\"We call the 'divide_number' function and pass num1 and num2 as argument in place of a and b. To perform the division between and b\")\n",
    "result = divide_number(num1, num2)\n",
    "logging.error(\"The result is {}\".format(result))"
   ]
  },
  {
   "cell_type": "markdown",
   "id": "4916c767-1fb4-4585-ae08-67171359cf09",
   "metadata": {},
   "source": [
    "In the above program we are trying to divide 10 by 0 which is impossible because it is not possible to divide any number by zero because when we divide any number by zero we get the result infinite. So we got ZeroDivisionError \" and 'Division by zero' error and the program will not be run further.\n",
    "\n",
    "`Example of condtion in which the expection is to be handled`"
   ]
  },
  {
   "cell_type": "code",
   "execution_count": 11,
   "id": "bc525434-7005-4f08-9742-2344301f93bb",
   "metadata": {},
   "outputs": [
    {
     "name": "stdout",
     "output_type": "stream",
     "text": [
      "The result of the division of 10/2 is 5.0\n"
     ]
    },
    {
     "data": {
      "text/plain": [
       "5.0"
      ]
     },
     "execution_count": 11,
     "metadata": {},
     "output_type": "execute_result"
    }
   ],
   "source": [
    "import logging\n",
    "\n",
    "logging.basicConfig(filename=\"Assignment_Q1_3.log\", level=logging.NOTSET, filemode='w', format=\"%(message)s %(asctime)s %(name)s %(levelname)s\")\n",
    "\n",
    "logging.info(\"Firstly, create the function 'divide_number' in the try section of the code and pass the two arguments into it. It is used to perform the division of the first argument denoted by num1 from the second argument denoted by num2. It will return the Quotient, denoted by a/b.\")\n",
    "\n",
    "def divide_number(a, b):\n",
    "    try:\n",
    "        result = a / b\n",
    "        logging.info(f\"The result of the division of {a}/{b} is {result}\")\n",
    "        print(f\"The result of the division of {a}/{b} is {result}\")\n",
    "        return result\n",
    "    except Exception as e:\n",
    "        logging.error(f\"An error occurred: {e}\")\n",
    "        print(e)\n",
    "\n",
    "# Example usage:\n",
    "a = 10\n",
    "b = 2\n",
    "divide_number(a, b)"
   ]
  },
  {
   "cell_type": "markdown",
   "id": "69d82d3f-878c-412b-94db-b88fc020ecdd",
   "metadata": {},
   "source": [
    "***\n",
    "\n",
    "### Q3. Which python statements are used to catch and handle exceptions? Explain with an example."
   ]
  },
  {
   "cell_type": "markdown",
   "id": "d750801f-579e-4728-a230-fe2b502e82a3",
   "metadata": {},
   "source": [
    "Solution(3): In Python, the try and except statements are used to catch and handle exceptions. "
   ]
  },
  {
   "cell_type": "code",
   "execution_count": 1,
   "id": "91cbac97-7095-4577-ae68-3166685ad18d",
   "metadata": {},
   "outputs": [
    {
     "name": "stdout",
     "output_type": "stream",
     "text": [
      "2.0\n",
      "Program exectued\n"
     ]
    }
   ],
   "source": [
    "try:\n",
    "    # Code that may raise an exception\n",
    "    result = 10 / 5\n",
    "    print(result)\n",
    "except ZeroDivisionError as e:\n",
    "    # Code to handle the exception (if division by zero occurs)\n",
    "    print(e)\n",
    "else:\n",
    "    # This block will execute if the try block will execute.\n",
    "    print(\"Program exectued\") "
   ]
  },
  {
   "cell_type": "markdown",
   "id": "2b961aa1-0a3f-4f7a-acdc-6f47058644d2",
   "metadata": {},
   "source": [
    "Here's an explanation of the provided Python code in 7 points:\n",
    "\n",
    "- **Try Block**: The `try` block encloses the code that may potentially raise an exception. In this example, we attempt to perform a division operation (`10 / 5`) that will not raise any exception.\n",
    "\n",
    "- **Division Operation**: Inside the `try` block, the expression `10 / 5` is evaluated, which will result in `2`. This operation doesn't raise any exception.\n",
    "\n",
    "- **Print Statement**: After the division operation, the result (`2`) is printed to the console.\n",
    "\n",
    "- **Else Block**: The `else` block immediately follows the `try` block. It is executed only if the code in the `try` block runs successfully, without raising any exceptions. In this case, since the division operation was successful, the `else` block will execute.\n",
    "\n",
    "- **Print Statement Inside Else Block**: Inside the `else` block, a message \"Program executed\" is printed to the console. This indicates that the code within the `try` block executed successfully without any exceptions being raised.\n",
    "\n",
    "- **No Exception Handling**: Since no exception occurred during the execution of the `try` block, the `except` block is skipped entirely.\n",
    "\n",
    "- **End of Execution**: After executing either the `else` block or the `except` block (if an exception had occurred), the program continues to execute the subsequent code outside of the `try-except-else` construct.\n",
    "\n",
    "In summary, the provided code demonstrates the use of a `try-except-else` construct in Python to handle potential exceptions. In this specific case, as no exception occurs during the division operation, the code within the `else` block executes, indicating successful program execution."
   ]
  },
  {
   "cell_type": "markdown",
   "id": "720bfd15-5346-449a-a7b3-00a134822349",
   "metadata": {},
   "source": [
    "***\n",
    "\n",
    "### Q4. Explain with an example:\n",
    "- Try and Else\n",
    "- Finally \n",
    "- rise"
   ]
  },
  {
   "cell_type": "markdown",
   "id": "4b445ff0-07dc-4b02-b09f-b56cc66ffebc",
   "metadata": {},
   "source": [
    "Soltion(4):\n",
    "- ### _`Try and Else`_"
   ]
  },
  {
   "cell_type": "markdown",
   "id": "1478319a-1097-49c3-84af-18199a476182",
   "metadata": {},
   "source": [
    "In python programming language \"try\" and \"except\" are used for exception handling. If an error occurs within the \"try\" block, the code will stop executing and jump to the \"except\" block, which handles the exception.\n",
    "\n",
    "\n",
    "Else block will execute only when no exception occurs. It means the when the try section is exectued."
   ]
  },
  {
   "cell_type": "markdown",
   "id": "a03ea6fc-3628-4e3b-b1e7-79000be63835",
   "metadata": {},
   "source": [
    " The code where the try an delse section is executed "
   ]
  },
  {
   "cell_type": "code",
   "execution_count": 8,
   "id": "436f02ab-e9a7-4772-94d2-3f56b983fb18",
   "metadata": {},
   "outputs": [
    {
     "name": "stdout",
     "output_type": "stream",
     "text": [
      "2.0\n",
      "Program exectued\n"
     ]
    }
   ],
   "source": [
    "try:\n",
    "    # Code that may raise an exception\n",
    "    result = 10 / 5\n",
    "    print(result)\n",
    "except ZeroDivisionError as e:\n",
    "    # Code to handle the exception (if division by zero occurs)\n",
    "    print(e)\n",
    "else:\n",
    "    # This block will execute if the try block will execute.\n",
    "    print(\"Program exectued\")"
   ]
  },
  {
   "cell_type": "markdown",
   "id": "18df6795-979c-48a8-8616-e98cc8980813",
   "metadata": {},
   "source": [
    "- ### _`Finally`_"
   ]
  },
  {
   "cell_type": "markdown",
   "id": "e8389777-f61b-4cb5-8f1f-ef0ca8960331",
   "metadata": {},
   "source": [
    "The finally block will always be executed, no matter if the try block raises an error or not:"
   ]
  },
  {
   "cell_type": "code",
   "execution_count": 4,
   "id": "db612ee2-6e7a-4d98-999f-e90bb76ba4f9",
   "metadata": {},
   "outputs": [
    {
     "name": "stdout",
     "output_type": "stream",
     "text": [
      "division by zero\n",
      "This block will execute if the try block will execute.\n"
     ]
    }
   ],
   "source": [
    "try:\n",
    "    # Code that may raise an exception\n",
    "    result = 10 / 0\n",
    "    print(result)\n",
    "except ZeroDivisionError as e:\n",
    "    # Code to handle the exception (if division by zero occurs)\n",
    "    print(e)\n",
    "else:\n",
    "    # This block will execute if the try block will execute.\n",
    "    print(\"Program exectued\")\n",
    "finally:\n",
    "    # This section will execute util and unless the try section will exectue or not.\n",
    "    print(\"This block will execute if the try block will execute.\")"
   ]
  },
  {
   "cell_type": "markdown",
   "id": "585e6cf1-5ba7-4952-afd8-641d0d4c0409",
   "metadata": {},
   "source": [
    "- ### `raise`"
   ]
  },
  {
   "cell_type": "markdown",
   "id": "2315c5e2-a38d-4563-a2e1-11dcc4606fa3",
   "metadata": {},
   "source": [
    "In Python, the raise statement is used to raise an exception. It allows you to generate an exception manually and specify its type and an optional error message. This is particularly useful when certain conditions in your code are met and you want to handle them by raising an exception."
   ]
  },
  {
   "cell_type": "code",
   "execution_count": 5,
   "id": "3ee1c1bc-c787-4220-8ec5-3ab9cc87bf9a",
   "metadata": {},
   "outputs": [
    {
     "name": "stdin",
     "output_type": "stream",
     "text": [
      "Enter the Percentage:   101\n"
     ]
    },
    {
     "name": "stdout",
     "output_type": "stream",
     "text": [
      "Percentage Assumption cannot be more than Zero\n"
     ]
    }
   ],
   "source": [
    "class Percentage_Error(Exception):\n",
    "    def __init__(self,msg):\n",
    "        self.msg = msg\n",
    "        \n",
    "def function_Check(Percentage):\n",
    "    if Percentage>100:\n",
    "        raise Percentage_Error(\"Percentage Assumption cannot be more than Zero\")\n",
    "    elif Percentage<0:\n",
    "        raise Percentage_Error(\"Percentage Assumption cnnot be less then zero\")\n",
    "    else:\n",
    "        print(\"Percentage is Correct\")\n",
    "try:\n",
    "    Percentage = int(input(\"Enter the Percentage:  \"))\n",
    "    function_Check(Percentage)\n",
    "except Percentage_Error as e:\n",
    "    print(e)"
   ]
  },
  {
   "cell_type": "markdown",
   "id": "0be5001e-e826-48b6-8f4b-4a0cdc375a1f",
   "metadata": {},
   "source": [
    "***"
   ]
  },
  {
   "cell_type": "markdown",
   "id": "7226c644-9c62-4a13-b40f-9d6240c841f7",
   "metadata": {},
   "source": [
    "### Q5. What are Custom Exceptions in python? What do we need Custom Exeptions? Explin with an example."
   ]
  },
  {
   "cell_type": "markdown",
   "id": "2e8d35e1-e9d5-4af5-90db-ccabaf2b2f9c",
   "metadata": {},
   "source": [
    "Solution(5): Custom exceptions in Python are user-defined exception classes that inherit from the built-in Exception class or any of its subclasses. These exceptions allow you to create specific error conditions tailored to your application's requirements."
   ]
  },
  {
   "cell_type": "code",
   "execution_count": 16,
   "id": "13502657-2f56-4bba-95d1-66690374a865",
   "metadata": {},
   "outputs": [
    {
     "name": "stdin",
     "output_type": "stream",
     "text": [
      "Enter the Age:   78\n"
     ]
    },
    {
     "name": "stdout",
     "output_type": "stream",
     "text": [
      "Age is Correct\n"
     ]
    }
   ],
   "source": [
    "class Age_Error(Exception):\n",
    "    def __init__(self,msg):\n",
    "        self.msg = msg\n",
    "        \n",
    "def function_CheckAge(Age):\n",
    "    if Age > 150:\n",
    "        raise Age_Error(\"In today senario Age more than 150 year is not possible\")\n",
    "    elif Age < 0:\n",
    "        raise Age_Error(\"Age Assumption cnnot be less then Zero\")\n",
    "    else:\n",
    "        print(\"Age is Correct\")\n",
    "try:\n",
    "    Age = int(input(\"Enter the Age:  \"))\n",
    "    function_CheckAge(Age)\n",
    "except Age_Error as e:\n",
    "    print(e)"
   ]
  },
  {
   "cell_type": "markdown",
   "id": "fb8455c9-6135-4096-8a7c-f59b1cfc8a82",
   "metadata": {},
   "source": [
    "***\n",
    "\n",
    "### Q6. Create a custom Exception class. Use this class to handle an exception."
   ]
  },
  {
   "cell_type": "markdown",
   "id": "125892c5-e02e-4da3-b588-73022afa6a5e",
   "metadata": {},
   "source": [
    "Solution(6): Custom exceptions are helpful in many situations. They allow you to define your own error conditions and handle them in a more specific and meaningful way."
   ]
  },
  {
   "cell_type": "code",
   "execution_count": 29,
   "id": "3e1dd232-d54f-4c66-9e00-193aed3ef4e8",
   "metadata": {},
   "outputs": [],
   "source": [
    "import logging\n",
    "\n",
    "logging.basicConfig(filename=\"Assignement_EH01_Q6_44.log\", level=logging.NOTSET, filemode= 'w', format=\"%(asctime)s %(name)s %(levelname)s %(message)s\")\n",
    "\n",
    "try:\n",
    "    # Code that may raise an exception\n",
    "    result = 10 / 5\n",
    "    logging.info(result)\n",
    "except ZeroDivisionError as e:\n",
    "    # Code to handle the exception (if division by zero occurs)\n",
    "    logging.info(e)\n",
    "else:\n",
    "    # This block will execute if the try block will execute.\n",
    "    logging.info(\"Program exectued\")\n",
    "finally:\n",
    "    #finally the code is exectued\n",
    "    logging.info(\"The Program is finally executed\")\n",
    "    logging.shutdown()"
   ]
  },
  {
   "cell_type": "markdown",
   "id": "7d9c826f-b0dc-4f45-ae37-406d22af4237",
   "metadata": {},
   "source": [
    "***"
   ]
  },
  {
   "cell_type": "code",
   "execution_count": null,
   "id": "844605f2-90a5-4dd3-8264-e5bbdfb79a5d",
   "metadata": {},
   "outputs": [],
   "source": []
  }
 ],
 "metadata": {
  "kernelspec": {
   "display_name": "Python 3 (ipykernel)",
   "language": "python",
   "name": "python3"
  },
  "language_info": {
   "codemirror_mode": {
    "name": "ipython",
    "version": 3
   },
   "file_extension": ".py",
   "mimetype": "text/x-python",
   "name": "python",
   "nbconvert_exporter": "python",
   "pygments_lexer": "ipython3",
   "version": "3.10.8"
  }
 },
 "nbformat": 4,
 "nbformat_minor": 5
}
